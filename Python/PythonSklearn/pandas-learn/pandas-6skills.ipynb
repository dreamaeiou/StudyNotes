{
 "cells": [
  {
   "cell_type": "markdown",
   "metadata": {},
   "source": [
    "### pandas 6小知识"
   ]
  },
  {
   "cell_type": "markdown",
   "metadata": {},
   "source": [
    "#### 1、Series与DataFrame的互传\n",
    "##### 大多时候的计算过程中产生的结果是Series格式，但接下来使用的操作尤其是使用链式语法时，需要衔接着传入DataFrame格式的变量，这时候需要用到互相转换的方法"
   ]
  },
  {
   "cell_type": "code",
   "execution_count": 1,
   "metadata": {},
   "outputs": [],
   "source": [
    "import pandas as pd"
   ]
  },
  {
   "cell_type": "code",
   "execution_count": 2,
   "metadata": {},
   "outputs": [
    {
     "data": {
      "text/html": [
       "<div>\n",
       "<style scoped>\n",
       "    .dataframe tbody tr th:only-of-type {\n",
       "        vertical-align: middle;\n",
       "    }\n",
       "\n",
       "    .dataframe tbody tr th {\n",
       "        vertical-align: top;\n",
       "    }\n",
       "\n",
       "    .dataframe thead th {\n",
       "        text-align: right;\n",
       "    }\n",
       "</style>\n",
       "<table border=\"1\" class=\"dataframe\">\n",
       "  <thead>\n",
       "    <tr style=\"text-align: right;\">\n",
       "      <th></th>\n",
       "      <th>列名</th>\n",
       "    </tr>\n",
       "  </thead>\n",
       "  <tbody>\n",
       "    <tr>\n",
       "      <th>0</th>\n",
       "      <td>0</td>\n",
       "    </tr>\n",
       "    <tr>\n",
       "      <th>1</th>\n",
       "      <td>1</td>\n",
       "    </tr>\n",
       "    <tr>\n",
       "      <th>2</th>\n",
       "      <td>2</td>\n",
       "    </tr>\n",
       "  </tbody>\n",
       "</table>\n",
       "</div>"
      ],
      "text/plain": [
       "   列名\n",
       "0   0\n",
       "1   1\n",
       "2   2"
      ]
     },
     "execution_count": 2,
     "metadata": {},
     "output_type": "execute_result"
    }
   ],
   "source": [
    "s = pd.Series([0, 1, 2])\n",
    "\n",
    "# Series转为DataFrame，name参数用于指定转换后的字段名\n",
    "s = s.to_frame(name='列名')\n",
    "s"
   ]
  },
  {
   "cell_type": "code",
   "execution_count": 3,
   "metadata": {},
   "outputs": [
    {
     "data": {
      "text/plain": [
       "0    0\n",
       "1    1\n",
       "2    2\n",
       "Name: 列名, dtype: int64"
      ]
     },
     "execution_count": 3,
     "metadata": {},
     "output_type": "execute_result"
    }
   ],
   "source": [
    "# 只有单列数据的DataFrame转为Series\n",
    "s.squeeze()"
   ]
  },
  {
   "cell_type": "markdown",
   "metadata": {},
   "source": [
    "#### 2、随机打乱DataFrame的记录行顺序\n",
    "##### 有时候我们需要对数据框整体的行顺序进行打乱，譬如在训练机器学习模型时，打乱原始数据顺序后取前若干行作为训练集后若干行作为测试集，这在pandas中可以利用sample()方法快捷实现。\n",
    "##### sample()方法的本质功能是从原始数据中抽样行记录，默认为不放回抽样，其参数frac用于控制抽样比例，我们将其设置为1则等价于打乱顺序："
   ]
  },
  {
   "cell_type": "code",
   "execution_count": 4,
   "metadata": {},
   "outputs": [
    {
     "data": {
      "text/html": [
       "<div>\n",
       "<style scoped>\n",
       "    .dataframe tbody tr th:only-of-type {\n",
       "        vertical-align: middle;\n",
       "    }\n",
       "\n",
       "    .dataframe tbody tr th {\n",
       "        vertical-align: top;\n",
       "    }\n",
       "\n",
       "    .dataframe thead th {\n",
       "        text-align: right;\n",
       "    }\n",
       "</style>\n",
       "<table border=\"1\" class=\"dataframe\">\n",
       "  <thead>\n",
       "    <tr style=\"text-align: right;\">\n",
       "      <th></th>\n",
       "      <th>V1</th>\n",
       "      <th>V2</th>\n",
       "    </tr>\n",
       "  </thead>\n",
       "  <tbody>\n",
       "    <tr>\n",
       "      <th>4</th>\n",
       "      <td>4</td>\n",
       "      <td>4</td>\n",
       "    </tr>\n",
       "    <tr>\n",
       "      <th>3</th>\n",
       "      <td>3</td>\n",
       "      <td>3</td>\n",
       "    </tr>\n",
       "    <tr>\n",
       "      <th>0</th>\n",
       "      <td>0</td>\n",
       "      <td>0</td>\n",
       "    </tr>\n",
       "    <tr>\n",
       "      <th>1</th>\n",
       "      <td>1</td>\n",
       "      <td>1</td>\n",
       "    </tr>\n",
       "    <tr>\n",
       "      <th>2</th>\n",
       "      <td>2</td>\n",
       "      <td>2</td>\n",
       "    </tr>\n",
       "  </tbody>\n",
       "</table>\n",
       "</div>"
      ],
      "text/plain": [
       "   V1  V2\n",
       "4   4   4\n",
       "3   3   3\n",
       "0   0   0\n",
       "1   1   1\n",
       "2   2   2"
      ]
     },
     "execution_count": 4,
     "metadata": {},
     "output_type": "execute_result"
    }
   ],
   "source": [
    "df = pd.DataFrame({\n",
    "    'V1': range(5),\n",
    "    'V2': range(5)\n",
    "})\n",
    "df.sample(frac=1)"
   ]
  },
  {
   "cell_type": "markdown",
   "metadata": {},
   "source": [
    "#### 3、利用类别型数据减少内存消耗\n",
    "##### 当我们的数据框中某些列是由少数几种值大量重复形成时，会消耗大量的内存"
   ]
  },
  {
   "cell_type": "code",
   "execution_count": 8,
   "metadata": {},
   "outputs": [
    {
     "name": "stdout",
     "output_type": "stream",
     "text": [
      "Index         128\n",
      "V1       58000000\n",
      "dtype: int64\n",
      "----------用pandas数据类型中的类别型来极大程度上减少内存消耗----------\n"
     ]
    },
    {
     "data": {
      "text/plain": [
       "Index        128\n",
       "V1       1000404\n",
       "dtype: int64"
      ]
     },
     "execution_count": 8,
     "metadata": {},
     "output_type": "execute_result"
    }
   ],
   "source": [
    "import numpy as np\n",
    "pool = ['A', 'B', 'C', 'D']\n",
    "\n",
    "# V1列由ABCD大量重复形成\n",
    "df = pd.DataFrame({\n",
    "    'V1': np.random.choice(pool, 1000000)\n",
    "})\n",
    "\n",
    "# 查看内存使用情况\n",
    "print(df.memory_usage(deep=True))\n",
    "print(\"-\" * 10 + \"用pandas数据类型中的类别型来极大程度上减少内存消耗\" + \"-\" * 10 )\n",
    "df['V1'] = df['V1'].astype('category')\n",
    "df.memory_usage(deep=True)"
   ]
  },
  {
   "cell_type": "markdown",
   "metadata": {},
   "source": [
    "#### 4、pandas中的object类型陷阱\n",
    "##### object在pandas中可以代表不确定的数据类型，即类型为object的Series中可以混杂着多种数据类型"
   ]
  },
  {
   "cell_type": "code",
   "execution_count": 14,
   "metadata": {},
   "outputs": [
    {
     "name": "stdout",
     "output_type": "stream",
     "text": [
      "0    111100\n",
      "1    111100\n",
      "2    111100\n",
      "3    111100\n",
      "dtype: object\n",
      "----------查看类型分布----------\n",
      "0    <class 'str'>\n",
      "1    <class 'str'>\n",
      "2    <class 'int'>\n",
      "3    <class 'str'>\n",
      "dtype: object\n",
      "----------无法处理的元素会变成缺失值而不报错----------\n",
      "0    111111\n",
      "1    111111\n",
      "2       NaN\n",
      "3    111111\n",
      "dtype: object\n",
      "----------先转成对应的类型，再执行----------\n"
     ]
    },
    {
     "data": {
      "text/plain": [
       "0    111111\n",
       "1    111111\n",
       "2    111111\n",
       "3    111111\n",
       "dtype: object"
      ]
     },
     "execution_count": 14,
     "metadata": {},
     "output_type": "execute_result"
    }
   ],
   "source": [
    "s = pd.Series(['111100', '111100', 111100, '111100'])\n",
    "print(s)\n",
    "print(\"-\" * 10 + \"查看类型分布\" + \"-\" * 10 )\n",
    "print(s.apply(lambda s: type(s)))\n",
    "print(\"-\" * 10 + \"无法处理的元素会变成缺失值而不报错\" + \"-\" * 10 )\n",
    "print(s.str.replace('00', '11'))\n",
    "print(\"-\" * 10 + \"先转成对应的类型，再执行\" + \"-\" * 10 )\n",
    "s.astype('str').str.replace('00', '11')"
   ]
  },
  {
   "cell_type": "markdown",
   "metadata": {},
   "source": [
    "#### 5、快速判断每一列是否有缺失值\n",
    "##### 在pandas中我们可以对单个Series查看hanans属性来了解其是否包含缺失值，而结合apply()，我们就可以快速查看整个数据框中哪些列含有缺失值"
   ]
  },
  {
   "cell_type": "code",
   "execution_count": 16,
   "metadata": {},
   "outputs": [
    {
     "data": {
      "text/plain": [
       "V1     True\n",
       "V2    False\n",
       "V3     True\n",
       "dtype: bool"
      ]
     },
     "execution_count": 16,
     "metadata": {},
     "output_type": "execute_result"
    }
   ],
   "source": [
    "df = pd.DataFrame({\n",
    "    'V1': [1, 2, None, 4],\n",
    "    'V2': [1, 2, 3, 4],\n",
    "    'V3': [None, 1, 2, 3]\n",
    "})\n",
    "df.apply(lambda s: s.hasnans)"
   ]
  },
  {
   "cell_type": "markdown",
   "metadata": {},
   "source": [
    "#### 6、使用rank()计算排名时的五种策略\n",
    "##### 可以利用rank()方法计算某一列数据对应的排名信息，但在rank()中有参数method来控制具体的结果计算策略"
   ]
  },
  {
   "cell_type": "code",
   "execution_count": 19,
   "metadata": {},
   "outputs": [
    {
     "name": "stdout",
     "output_type": "stream",
     "text": [
      "----------平均值----------\n",
      "0    1.0\n",
      "1    3.0\n",
      "2    3.0\n",
      "3    3.0\n",
      "4    5.0\n",
      "5    6.5\n",
      "6    6.5\n",
      "7    8.0\n",
      "8    9.0\n",
      "dtype: float64\n",
      "----------最小值----------\n",
      "0    1.0\n",
      "1    2.0\n",
      "2    2.0\n",
      "3    2.0\n",
      "4    5.0\n",
      "5    6.0\n",
      "6    6.0\n",
      "7    8.0\n",
      "8    9.0\n",
      "dtype: float64\n",
      "----------最大值----------\n",
      "0    1.0\n",
      "1    4.0\n",
      "2    4.0\n",
      "3    4.0\n",
      "4    5.0\n",
      "5    7.0\n",
      "6    7.0\n",
      "7    8.0\n",
      "8    9.0\n",
      "dtype: float64\n",
      "----------去重排名，再将每个元素的排名付给相同的每个元素----------\n",
      "0    1.0\n",
      "1    2.0\n",
      "2    2.0\n",
      "3    2.0\n",
      "4    3.0\n",
      "5    4.0\n",
      "6    4.0\n",
      "7    5.0\n",
      "8    6.0\n",
      "dtype: float64\n",
      "----------当多个元素相同时，会根据相同元素再实际Series中的顺序分配排名----------\n",
      "0    2.0\n",
      "1    3.0\n",
      "2    4.0\n",
      "3    1.0\n",
      "4    5.0\n",
      "dtype: float64\n"
     ]
    }
   ],
   "source": [
    "s = pd.Series([1, 2, 2, 2, 3, 4, 4, 5, 6])\n",
    "print('-' * 10 + '平均值' + '-' * 10)\n",
    "print(s.rank(method='average'))\n",
    "print('-' * 10 + '最小值' + '-' * 10)\n",
    "print(s.rank(method='min'))\n",
    "print('-' * 10 + '最大值' + '-' * 10)\n",
    "print(s.rank(method='max'))\n",
    "print('-' * 10 + '去重排名，再将每个元素的排名付给相同的每个元素' + '-' * 10)\n",
    "print(s.rank(method='dense'))\n",
    "print('-' * 10 + '当多个元素相同时，会根据相同元素再实际Series中的顺序分配排名' + '-' * 10)\n",
    "s = pd.Series([2, 2, 2, 1, 3])\n",
    "print(s.rank(method='first'))"
   ]
  },
  {
   "cell_type": "code",
   "execution_count": null,
   "metadata": {},
   "outputs": [],
   "source": []
  }
 ],
 "metadata": {
  "kernelspec": {
   "display_name": "sklearn-3.10.6",
   "language": "python",
   "name": "sklearn-3.10.6"
  },
  "language_info": {
   "codemirror_mode": {
    "name": "ipython",
    "version": 3
   },
   "file_extension": ".py",
   "mimetype": "text/x-python",
   "name": "python",
   "nbconvert_exporter": "python",
   "pygments_lexer": "ipython3",
   "version": "3.10.6"
  }
 },
 "nbformat": 4,
 "nbformat_minor": 2
}
